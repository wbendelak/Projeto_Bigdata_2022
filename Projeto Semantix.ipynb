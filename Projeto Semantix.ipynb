{
 "cells": [
  {
   "cell_type": "markdown",
   "metadata": {},
   "source": [
    "## Notebook do projeto final Semantix ##"
   ]
  },
  {
   "cell_type": "code",
   "execution_count": 2,
   "metadata": {},
   "outputs": [],
   "source": [
    "import wget\n",
    "\n",
    "\n",
    "## Download de dados do link fornecido\n",
    "\n",
    "url = \"https://mobileapps.saude.gov.br/esus-vepi/files/unAFkcaNDeXajurGB7LChj8SgQYS2ptm/04bd3419b22b9cc5c6efac2c6528100d_HIST_PAINEL_COVIDBR_06jul2021.rar\"\n",
    "\n",
    "dados = wget.download(url, \"dados.rar\")\n",
    "\n"
   ]
  },
  {
   "cell_type": "code",
   "execution_count": 6,
   "metadata": {},
   "outputs": [
    {
     "name": "stdout",
     "output_type": "stream",
     "text": [
      "/bin/sh: 1: docker: not found\n",
      "/bin/sh: 1: docker: not found\n",
      "/bin/sh: 1: docker: not found\n",
      "/bin/sh: 1: docker: not found\n"
     ]
    }
   ],
   "source": [
    "##transferir do linux local para dentro do container namenode\n",
    "\n",
    "!docker cp 2020_01.csv namenode:/\n",
    "!docker cp 2020_02.csv namenode:/\n",
    "!docker cp 2021_01.csv namenode:/\n",
    "!docker cp 2021_02.csv namenode:/\n",
    "\n",
    "    "
   ]
  },
  {
   "cell_type": "code",
   "execution_count": 10,
   "metadata": {},
   "outputs": [
    {
     "name": "stdout",
     "output_type": "stream",
     "text": [
      "put: `2020_01.csv': No such file or directory\n",
      "put: `2020_02.csv': No such file or directory\n",
      "put: `2021_01.csv': No such file or directory\n",
      "put: `2021_02.csv': No such file or directory\n",
      "ls: `.': No such file or directory\n"
     ]
    }
   ],
   "source": [
    "### Transferir dados do namenode para a pasta do HDFS\n",
    "\n",
    "!hdfs dfs -put 2020_01.csv /user/matheus/projetoS\n",
    "!hdfs dfs -put 2020_02.csv /user/matheus/projetoS\n",
    "!hdfs dfs -put 2021_01.csv /user/matheus/projetoS\n",
    "!hdfs dfs -put 2021_02.csv /user/matheus/projetoS\n",
    "\n"
   ]
  },
  {
   "cell_type": "code",
   "execution_count": 128,
   "metadata": {},
   "outputs": [
    {
     "name": "stdout",
     "output_type": "stream",
     "text": [
      "Found 4 items\r\n",
      "-rw-r--r--   3 root supergroup   62492959 2021-07-18 14:09 /user/matheus/projetoS/2020_01.csv\r\n",
      "-rw-r--r--   3 root supergroup   76520681 2021-07-18 14:10 /user/matheus/projetoS/2020_02.csv\r\n",
      "-rw-r--r--   3 root supergroup   91120916 2021-07-18 14:10 /user/matheus/projetoS/2021_01.csv\r\n",
      "-rw-r--r--   3 root supergroup    3046774 2021-07-18 14:10 /user/matheus/projetoS/2021_02.csv\r\n"
     ]
    }
   ],
   "source": [
    "### Check de dados no HDFS\n",
    "!hdfs dfs -ls /user/matheus/projetoS/"
   ]
  },
  {
   "cell_type": "code",
   "execution_count": 12,
   "metadata": {
    "scrolled": true
   },
   "outputs": [
    {
     "name": "stdout",
     "output_type": "stream",
     "text": [
      "regiao;estado;municipio;coduf;codmun;codRegiaoSaude;nomeRegiaoSaude;data;semanaEpi;populacaoTCU2019;casosAcumulado;casosNovos;obitosAcumulado;obitosNovos;Recuperadosnovos;emAcompanhamentoNovos;interior/metropolitana\r",
      "\r\n",
      "Brasil;;;76;;;;2020-02-25;9;210147125;0;0;0;0;;;\r",
      "\r\n",
      "Brasil;;;76;;;;2020-02-26;9;210147125;1;1;0;0;;;\r",
      "\r\n",
      "Brasil;;;76;;;;2020-02-27;9;210147125;1;0;0;0;;;\r",
      "\r\n",
      "Brasil;;;76;;;;2020-02-28;9;210147125;1;0;0;0;;;\r",
      "\r\n",
      "Brasil;;;76;;;;2020-02-29;9;210147125;2;1;0;0;;;\r",
      "\r\n",
      "Brasil;;;76;;;;2020-03-01;10;210147125;2;0;0;0;;;\r",
      "\r\n",
      "Brasil;;;76;;;;2020-03-02;10;210147125;2;0;0;0;;;\r",
      "\r\n",
      "Brasil;;;76;;;;2020-03-03;10;210147125;2;0;0;0;;;\r",
      "\r\n",
      "Brasil;;;76;;;;2020-03-04;10;210147125;3;1;0;0;;;\r",
      "\r\n",
      "cat: Unable to write to output stream.\r\n"
     ]
    }
   ],
   "source": [
    "### identificar estrutura dos dados .csv\n",
    "\n",
    "!hdfs dfs -cat /user/matheus/projetoS/2020_01.csv | head"
   ]
  },
  {
   "cell_type": "code",
   "execution_count": 7,
   "metadata": {},
   "outputs": [
    {
     "name": "stdout",
     "output_type": "stream",
     "text": [
      "+----------------+\n",
      "|    databaseName|\n",
      "+----------------+\n",
      "|         default|\n",
      "|projeto_semantix|\n",
      "+----------------+\n",
      "\n"
     ]
    }
   ],
   "source": [
    "### Criação da Database\n",
    "\n",
    "spark.sql(\"create database projeto_semantix\")\n",
    "spark.sql(\"show databases\").show()\n"
   ]
  },
  {
   "cell_type": "raw",
   "metadata": {},
   "source": [
    "### Criação da tabela dados_covid\n",
    "\n",
    "## No terminal hive ##\n",
    "\n",
    "CREATE EXTERNAL TABLE dados_covid(regiao string, \n",
    "                         estado string,\n",
    "                         municipio string,\n",
    "                         cod_uf int,\n",
    "                         cod_mun int,\n",
    "                         cod_regiao_saude int,\n",
    "                         nome_regiao_saude string,\n",
    "                         data date,\n",
    "                         semana_epi int,\n",
    "                         populacaoTCU2019 int,\n",
    "                         casos_acumulados int,\n",
    "                         casos_novos int,\n",
    "                         obitos_acumulado int,\n",
    "                         obitos_novos int,\n",
    "                         recuperados_novos int,\n",
    "                         em_acompanhamento_novos int,\n",
    "                         interior_metropolitana string)\n",
    "                         row format delimited\n",
    "                         fields terminated by ';'\n",
    "                         lines terminated by '\\n'\n",
    "                         stored as textfile \n",
    "                         location '/user/matheus/projetoS'            \n",
    "                         tblproperties(\"skip.header.line.count\"=\"1\")\n",
    "                         \n"
   ]
  },
  {
   "cell_type": "code",
   "execution_count": 15,
   "metadata": {},
   "outputs": [
    {
     "name": "stdout",
     "output_type": "stream",
     "text": [
      "Found 6 items\r\n",
      "drwxr-xr-x   - root supergroup          0 2021-07-20 00:38 /user/hive/warehouse/teste\r\n",
      "drwxr-xr-x   - root supergroup          0 2021-07-20 01:25 /user/hive/warehouse/teste2\r\n",
      "drwxr-xr-x   - root supergroup          0 2021-07-20 01:32 /user/hive/warehouse/teste5\r\n",
      "drwxr-xr-x   - root supergroup          0 2021-07-20 01:37 /user/hive/warehouse/teste88\r\n",
      "drwxr-xr-x   - root supergroup          0 2021-07-20 02:39 /user/hive/warehouse/view1\r\n",
      "drwxr-xr-x   - root supergroup          0 2021-07-20 02:46 /user/hive/warehouse/view2\r\n"
     ]
    }
   ],
   "source": [
    "! hdfs dfs -ls /user/hive/warehouse"
   ]
  },
  {
   "cell_type": "code",
   "execution_count": 59,
   "metadata": {},
   "outputs": [
    {
     "name": "stdout",
     "output_type": "stream",
     "text": [
      "/bin/sh: 1: load: not found\r\n"
     ]
    }
   ],
   "source": [
    "### Carga de dados .csv na tabela criada dados_covid\n",
    "\n",
    "\n",
    "### nao é mais necessario para esse script, load feito direto via criação da external table\n",
    "!load data inpath '/user/matheus/projetoS' into table dados_covid;"
   ]
  },
  {
   "cell_type": "code",
   "execution_count": null,
   "metadata": {},
   "outputs": [],
   "source": []
  },
  {
   "cell_type": "code",
   "execution_count": 1,
   "metadata": {
    "scrolled": false
   },
   "outputs": [
    {
     "name": "stdout",
     "output_type": "stream",
     "text": [
      "root\n",
      " |-- regiao: string (nullable = true)\n",
      " |-- estado: string (nullable = true)\n",
      " |-- municipio: string (nullable = true)\n",
      " |-- cod_uf: integer (nullable = true)\n",
      " |-- cod_mun: integer (nullable = true)\n",
      " |-- cod_regiao_saude: integer (nullable = true)\n",
      " |-- nome_regiao_saude: string (nullable = true)\n",
      " |-- data: date (nullable = true)\n",
      " |-- semana_epi: integer (nullable = true)\n",
      " |-- populacaotcu2019: integer (nullable = true)\n",
      " |-- casos_acumulados: integer (nullable = true)\n",
      " |-- casos_novos: integer (nullable = true)\n",
      " |-- obitos_acumulado: integer (nullable = true)\n",
      " |-- obitos_novos: integer (nullable = true)\n",
      " |-- recuperados_novos: integer (nullable = true)\n",
      " |-- em_acompanhamento_novos: integer (nullable = true)\n",
      " |-- interior_metropolitana: string (nullable = true)\n",
      "\n"
     ]
    }
   ],
   "source": [
    "### atribui a table dados covid a variavel tabela\n",
    "tabela = spark.read.table(\"dados_covid\")\n",
    "tabela.printSchema()"
   ]
  },
  {
   "cell_type": "code",
   "execution_count": 8,
   "metadata": {
    "scrolled": true
   },
   "outputs": [
    {
     "name": "stdout",
     "output_type": "stream",
     "text": [
      "+-----------------+\n",
      "|Casos_Recuperados|\n",
      "+-----------------+\n",
      "|         17262646|\n",
      "+-----------------+\n",
      "\n",
      "+-----------------+\n",
      "|Em_Acompanhamento|\n",
      "+-----------------+\n",
      "|          1065477|\n",
      "+-----------------+\n",
      "\n",
      "+---------+\n",
      "|Acumulado|\n",
      "+---------+\n",
      "| 18855015|\n",
      "+---------+\n",
      "\n",
      "+-----------+\n",
      "|Casos_novos|\n",
      "+-----------+\n",
      "|      62504|\n",
      "+-----------+\n",
      "\n",
      "+----------+\n",
      "|incidencia|\n",
      "+----------+\n",
      "|    8972.3|\n",
      "+----------+\n",
      "\n",
      "+---------------+\n",
      "|Obito_acumulado|\n",
      "+---------------+\n",
      "|         526892|\n",
      "+---------------+\n",
      "\n",
      "+------------+\n",
      "|Obitos_novos|\n",
      "+------------+\n",
      "|        1780|\n",
      "+------------+\n",
      "\n",
      "+----------+\n",
      "|letalidade|\n",
      "+----------+\n",
      "|       2.8|\n",
      "+----------+\n",
      "\n",
      "+-----------+\n",
      "|mortalidade|\n",
      "+-----------+\n",
      "|      250.7|\n",
      "+-----------+\n",
      "\n"
     ]
    }
   ],
   "source": [
    "### Criação das querys\n",
    "\n",
    "total_casos_recuperados = spark.sql(\"select MAX (recuperados_novos) as Casos_Recuperados from dados_covid\").show()\n",
    "casos_em_acompanhamento = spark.sql(\"select LAST (em_acompanhamento_novos) as Em_Acompanhamento from dados_covid WHERE em_acompanhamento_novos IS NOT NULL\").show()\n",
    "\n",
    "total_casos_acumulados = spark.sql(\"select MAX (casos_acumulados) as Acumulado from dados_covid \").show()\n",
    "casos_novos = spark.sql(\"select MAX (casos_novos) as Casos_novos from dados_covid where data = ('2021-07-06')\").show()\n",
    "incidencia = spark.sql(\"SELECT ROUND(((MAX(casos_acumulados) / MAX(populacaotcu2019))*100000),1) as incidencia from dados_covid where data = ('2021-07-06')\").show()\n",
    "\n",
    "###Calculo incidencia (casos confirmados * 1.000.000) / população.\n",
    "###Calculo letalidade (mortes totais/casos totais)\n",
    "###Calculo mortalidade (mortes totais/população)\n",
    "\n",
    "total_obitos_acumulados = spark.sql(\"select MAX (obitos_acumulado) as Obito_acumulado from dados_covid \").show()\n",
    "obitos_novos = spark.sql(\"select MAX (obitos_novos) as Obitos_novos from dados_covid where data = ('2021-07-06')\").show()\n",
    "letalidade = spark.sql(\"SELECT ROUND(((MAX(obitos_acumulado) / MAX(casos_acumulados))*100),1) as letalidade from dados_covid\").show()\n",
    "mortalidade = spark.sql(\"SELECT ROUND(((MAX(obitos_acumulado) / MAX(populacaotcu2019))*100000),1) as mortalidade from dados_covid\").show()\n",
    "\n",
    "\n",
    "#populacao = spark.sql(\"select MAX (populacaotcu2019) as populacao from dados_covid where data = ('2021-07-06')\").show()"
   ]
  },
  {
   "cell_type": "code",
   "execution_count": 29,
   "metadata": {
    "scrolled": true
   },
   "outputs": [
    {
     "name": "stdout",
     "output_type": "stream",
     "text": [
      "++\n",
      "||\n",
      "++\n",
      "++\n",
      "\n",
      "++\n",
      "||\n",
      "++\n",
      "++\n",
      "\n",
      "++\n",
      "||\n",
      "++\n",
      "++\n",
      "\n"
     ]
    }
   ],
   "source": [
    "### Criação das views\n",
    "\n",
    "\n",
    "total_casos_recuperados = spark.sql(\"ALTER VIEW Casos_Recuperados AS select 'Casos_Recuperados', MAX (recuperados_novos) as total_casos_recuperados from dados_covid UNION select 'Em_acompanhamento', MAX (em_acompanhamento_novos) as Em_Acompanhamento from dados_covid WHERE data = ('2021-07-06')\").show()\n",
    "\n",
    "casos_confirmados = spark.sql(\"ALTER VIEW Casos_confirmados AS select 'Acumulados', (MAX (casos_acumulados)) as casos_confirmados from dados_covid UNION select 'Casos_novos', MAX (casos_novos) as Casos_novos from dados_covid where data = ('2021-07-06') UNION SELECT 'Incidencia', ROUND(((MAX(casos_acumulados) / MAX(populacaotcu2019))*100000),1) as incidencia from dados_covid where data = ('2021-07-06')\").show()\n",
    "\n",
    "Obitos_confirmados = spark.sql(\"ALTER VIEW Obitos_confirmados AS select 'Total_obitos', MAX (obitos_acumulado) as Obitos_confirmados from dados_covid UNION select 'obitos_novos', MAX (obitos_novos) as Obitos_novos from dados_covid where data = ('2021-07-06') UNION SELECT 'obitos_acumulado', ROUND(((MAX(obitos_acumulado) / MAX(casos_acumulados))*100),1) as letalidade from dados_covid UNION SELECT 'mortalidade', ROUND(((MAX(obitos_acumulado) / MAX(populacaotcu2019))*100000),1) as mortalidade from dados_covid\").show()\n",
    "\n",
    "\n"
   ]
  },
  {
   "cell_type": "code",
   "execution_count": 30,
   "metadata": {
    "scrolled": true
   },
   "outputs": [
    {
     "name": "stdout",
     "output_type": "stream",
     "text": [
      "+-----------------+-----------------------+\n",
      "|casos_recuperados|total_casos_recuperados|\n",
      "+-----------------+-----------------------+\n",
      "|Em_acompanhamento|                1065477|\n",
      "|Casos_Recuperados|               17262646|\n",
      "+-----------------+-----------------------+\n",
      "\n",
      "+-----------+-----------------+\n",
      "| acumulados|casos_confirmados|\n",
      "+-----------+-----------------+\n",
      "| Acumulados|      1.8855015E7|\n",
      "| Incidencia|           8972.3|\n",
      "|Casos_novos|          62504.0|\n",
      "+-----------+-----------------+\n",
      "\n",
      "+----------------+------------------+\n",
      "|    total_obitos|obitos_confirmados|\n",
      "+----------------+------------------+\n",
      "|    Total_obitos|          526892.0|\n",
      "|    obitos_novos|            1780.0|\n",
      "|obitos_acumulado|               2.8|\n",
      "|     mortalidade|             250.7|\n",
      "+----------------+------------------+\n",
      "\n"
     ]
    }
   ],
   "source": [
    "### Verificar as view\n",
    "\n",
    "spark.sql(\"SELECT * from Casos_Recuperados\").show()\n",
    "spark.sql(\"SELECT * from Casos_confirmados\").show()\n",
    "spark.sql(\"SELECT * from Obitos_confirmados\").show()\n",
    "\n",
    "\n"
   ]
  },
  {
   "cell_type": "code",
   "execution_count": 4,
   "metadata": {},
   "outputs": [],
   "source": [
    "### Criar a view 1 como tabela hive\n",
    "\n",
    "View1 = spark.sql(\"SELECT * from Casos_Recuperados\")\n",
    "View1.write.saveAsTable(\"View1\")"
   ]
  },
  {
   "cell_type": "code",
   "execution_count": 1,
   "metadata": {
    "scrolled": true
   },
   "outputs": [
    {
     "name": "stdout",
     "output_type": "stream",
     "text": [
      "+---+-----------------------+\n",
      "|  1|total_casos_recuperados|\n",
      "+---+-----------------------+\n",
      "|  2|                1065477|\n",
      "|  1|               17262646|\n",
      "+---+-----------------------+\n",
      "\n"
     ]
    }
   ],
   "source": [
    "### Visualizar tabela hive\n",
    "\n",
    "spark.sql(\"SELECT * from View1\").show()\n"
   ]
  },
  {
   "cell_type": "code",
   "execution_count": 12,
   "metadata": {},
   "outputs": [
    {
     "name": "stdout",
     "output_type": "stream",
     "text": [
      "Found 4 items\r\n",
      "-rw-r--r--   2 root supergroup          0 2021-07-20 02:39 /user/hive/warehouse/view1/_SUCCESS\r\n",
      "-rw-r--r--   2 root supergroup        380 2021-07-20 02:39 /user/hive/warehouse/view1/part-00000-9a260e62-934b-4952-9161-4ad6a143ccbb-c000.snappy.parquet\r\n",
      "-rw-r--r--   2 root supergroup        643 2021-07-20 02:39 /user/hive/warehouse/view1/part-00027-9a260e62-934b-4952-9161-4ad6a143ccbb-c000.snappy.parquet\r\n",
      "-rw-r--r--   2 root supergroup        643 2021-07-20 02:39 /user/hive/warehouse/view1/part-00145-9a260e62-934b-4952-9161-4ad6a143ccbb-c000.snappy.parquet\r\n"
     ]
    }
   ],
   "source": [
    "### Verificar warehouse \n",
    "\n",
    "!hdfs dfs -ls /user/hive/warehouse/view1"
   ]
  },
  {
   "cell_type": "code",
   "execution_count": 11,
   "metadata": {},
   "outputs": [],
   "source": [
    "### Criar a view 2 com formato parquet e compressão snappy\n",
    "\n",
    "View2 = spark.sql(\"SELECT * from Casos_confirmados\")\n",
    "View2.write.option(\"compression\",\"snappy\").parquet('/user/hive/warehouse/view2')"
   ]
  },
  {
   "cell_type": "code",
   "execution_count": 7,
   "metadata": {
    "scrolled": true
   },
   "outputs": [
    {
     "name": "stdout",
     "output_type": "stream",
     "text": [
      "+---+-----------------+\n",
      "|  1|casos_confirmados|\n",
      "+---+-----------------+\n",
      "|  1|      1.8855015E7|\n",
      "|  3|           8972.3|\n",
      "|  2|          62504.0|\n",
      "+---+-----------------+\n",
      "\n"
     ]
    }
   ],
   "source": [
    "### Visualizar tabela hive com a compressão \n",
    "\n",
    "spark.read.parquet(\"/user/hive/warehouse/view2\").show()"
   ]
  },
  {
   "cell_type": "code",
   "execution_count": 14,
   "metadata": {},
   "outputs": [
    {
     "name": "stdout",
     "output_type": "stream",
     "text": [
      "Found 5 items\r\n",
      "-rw-r--r--   2 root supergroup          0 2021-07-20 02:46 /user/hive/warehouse/view2/_SUCCESS\r\n",
      "-rw-r--r--   2 root supergroup        367 2021-07-20 02:46 /user/hive/warehouse/view2/part-00000-1ee13c96-f1b9-4b8c-867b-360edade7c1d-c000.snappy.parquet\r\n",
      "-rw-r--r--   2 root supergroup        662 2021-07-20 02:46 /user/hive/warehouse/view2/part-00045-1ee13c96-f1b9-4b8c-867b-360edade7c1d-c000.snappy.parquet\r\n",
      "-rw-r--r--   2 root supergroup        662 2021-07-20 02:46 /user/hive/warehouse/view2/part-00112-1ee13c96-f1b9-4b8c-867b-360edade7c1d-c000.snappy.parquet\r\n",
      "-rw-r--r--   2 root supergroup        662 2021-07-20 02:46 /user/hive/warehouse/view2/part-00142-1ee13c96-f1b9-4b8c-867b-360edade7c1d-c000.snappy.parquet\r\n"
     ]
    }
   ],
   "source": [
    "### Verificar warehouse\n",
    "\n",
    "!hdfs dfs -ls /user/hive/warehouse/view2"
   ]
  },
  {
   "cell_type": "raw",
   "metadata": {},
   "source": [
    "### Salvando view 3 em um topico no kafka\n",
    "\n",
    "## No terminal kafka ##\n",
    "\n",
    "#Criando topico kafka\n",
    "\n",
    "kafka-topics.sh --bootstrap-server kafka:9092 --topic view3 --create --partitions 1 --replication-factor 1\n",
    "\n",
    "#Verificar criação do topico\n",
    "\n",
    "kafka-topics.sh --bootstrap-server kafka:9092 --list\n",
    "\n",
    "#instrui o topico criado a ser um comsumer dos dados\n",
    "\n",
    "kafka-console-consumer.sh --bootstrap-server kafka:9092 --topic view3"
   ]
  },
  {
   "cell_type": "code",
   "execution_count": 7,
   "metadata": {},
   "outputs": [],
   "source": [
    "###Criar o envio dos dados para o kafka\n",
    "\n",
    "from pyspark.sql.functions import *\n",
    "from pyspark.sql.types import *\n",
    "\n",
    "View3 = spark.sql(\"SELECT * from obitos_confirmados\")\n",
    "\n",
    "\n",
    "\n",
    "\n",
    "View3_converted = View3.withColumn(\"value\", struct(col(\"total_obitos\"),col(\"obitos_confirmados\")))\n",
    "View3_converted = View3_converted.drop(\"total_obitos\",\"obitos_confirmados\")\n",
    "View3_converted = View3_converted.withColumn(\"value\",col(\"value\").cast(\"string\"))\n",
    "#View3_converted.toPandas()\n",
    "\n",
    "\n",
    "View3_converted.write.format(\"kafka\").option(\"kafka.bootstrap.servers\", \"kafka:9092\").option(\"topic\",\"view3\").save()"
   ]
  },
  {
   "cell_type": "code",
   "execution_count": 22,
   "metadata": {},
   "outputs": [
    {
     "data": {
      "image/jpeg": "[encoded data removed]",
      "text/plain": [
       "<IPython.core.display.Image object>"
      ]
     },
     "execution_count": 22,
     "metadata": {},
     "output_type": "execute_result"
    }
   ],
   "source": [
    "### Print abaixo do resultado de saida no console consumer do kafka \n",
    "\n",
    "from IPython.display import Image\n",
    "Image('Kafka.JPG')"
   ]
  },
  {
   "cell_type": "code",
   "execution_count": 6,
   "metadata": {
    "scrolled": true
   },
   "outputs": [
    {
     "name": "stdout",
     "output_type": "stream",
     "text": [
      "root\n",
      " |-- regiao: string (nullable = true)\n",
      " |-- Casos: long (nullable = true)\n",
      " |-- Óbitos: long (nullable = true)\n",
      " |-- sum(max(obitos_novos)): long (nullable = true)\n",
      " |-- Incidencia: double (nullable = true)\n",
      " |-- Mortalidade: double (nullable = true)\n",
      "\n"
     ]
    },
    {
     "data": {
      "text/html": [
       "<div>\n",
       "<style scoped>\n",
       "    .dataframe tbody tr th:only-of-type {\n",
       "        vertical-align: middle;\n",
       "    }\n",
       "\n",
       "    .dataframe tbody tr th {\n",
       "        vertical-align: top;\n",
       "    }\n",
       "\n",
       "    .dataframe thead th {\n",
       "        text-align: right;\n",
       "    }\n",
       "</style>\n",
       "<table border=\"1\" class=\"dataframe\">\n",
       "  <thead>\n",
       "    <tr style=\"text-align: right;\">\n",
       "      <th></th>\n",
       "      <th>regiao</th>\n",
       "      <th>Casos</th>\n",
       "      <th>Óbitos</th>\n",
       "      <th>sum(max(obitos_novos))</th>\n",
       "      <th>Incidencia</th>\n",
       "      <th>Mortalidade</th>\n",
       "    </tr>\n",
       "  </thead>\n",
       "  <tbody>\n",
       "    <tr>\n",
       "      <th>0</th>\n",
       "      <td>Nordeste</td>\n",
       "      <td>4455737</td>\n",
       "      <td>107824</td>\n",
       "      <td>5183</td>\n",
       "      <td>7807.268035</td>\n",
       "      <td>188.927414</td>\n",
       "    </tr>\n",
       "    <tr>\n",
       "      <th>1</th>\n",
       "      <td>Sul</td>\n",
       "      <td>3611041</td>\n",
       "      <td>80705</td>\n",
       "      <td>1859</td>\n",
       "      <td>12046.446916</td>\n",
       "      <td>269.232196</td>\n",
       "    </tr>\n",
       "    <tr>\n",
       "      <th>2</th>\n",
       "      <td>Sudeste</td>\n",
       "      <td>7138803</td>\n",
       "      <td>245311</td>\n",
       "      <td>2484</td>\n",
       "      <td>8078.179518</td>\n",
       "      <td>277.590836</td>\n",
       "    </tr>\n",
       "    <tr>\n",
       "      <th>3</th>\n",
       "      <td>Centro-Oeste</td>\n",
       "      <td>1916619</td>\n",
       "      <td>49207</td>\n",
       "      <td>707</td>\n",
       "      <td>11760.509893</td>\n",
       "      <td>301.937636</td>\n",
       "    </tr>\n",
       "    <tr>\n",
       "      <th>4</th>\n",
       "      <td>Brasil</td>\n",
       "      <td>18855015</td>\n",
       "      <td>526892</td>\n",
       "      <td>4249</td>\n",
       "      <td>8972.292626</td>\n",
       "      <td>250.725295</td>\n",
       "    </tr>\n",
       "    <tr>\n",
       "      <th>5</th>\n",
       "      <td>Norte</td>\n",
       "      <td>1732862</td>\n",
       "      <td>43845</td>\n",
       "      <td>630</td>\n",
       "      <td>9401.898326</td>\n",
       "      <td>237.887513</td>\n",
       "    </tr>\n",
       "  </tbody>\n",
       "</table>\n",
       "</div>"
      ],
      "text/plain": [
       "         regiao     Casos  Óbitos  sum(max(obitos_novos))    Incidencia  \\\n",
       "0      Nordeste   4455737  107824                    5183   7807.268035   \n",
       "1           Sul   3611041   80705                    1859  12046.446916   \n",
       "2       Sudeste   7138803  245311                    2484   8078.179518   \n",
       "3  Centro-Oeste   1916619   49207                     707  11760.509893   \n",
       "4        Brasil  18855015  526892                    4249   8972.292626   \n",
       "5         Norte   1732862   43845                     630   9401.898326   \n",
       "\n",
       "   Mortalidade  \n",
       "0   188.927414  \n",
       "1   269.232196  \n",
       "2   277.590836  \n",
       "3   301.937636  \n",
       "4   250.725295  \n",
       "5   237.887513  "
      ]
     },
     "execution_count": 6,
     "metadata": {},
     "output_type": "execute_result"
    }
   ],
   "source": [
    "### Criação da view do exercicio 7 com spark Dataframe\n",
    "\n",
    "\n",
    "from pyspark.sql.functions import col\n",
    "from pyspark.sql.functions import lit\n",
    "\n",
    "temp = tabela.select('regiao','populacaotcu2019','obitos_acumulado','casos_acumulados','estado').where(tabela.regiao != 'regiao')\n",
    "\n",
    "\n",
    "temp = temp.groupBy('estado', 'regiao')\n",
    "temp = temp.max('casos_acumulados','obitos_acumulado','populacaotcu2019')\n",
    "\n",
    "\n",
    "temp = temp.groupBy('regiao')\n",
    "temp = temp.sum('max(casos_acumulados)','max(obitos_acumulado)','max(populacaotcu2019)')\n",
    "temp = temp.withColumn('mult', lit(100000))\n",
    "\n",
    "temp = temp.withColumn('Incidencia', ((col('sum(max(casos_acumulados))') * col('mult'))/col('sum(max(populacaotcu2019))')))\n",
    "temp = temp.withColumn('Mortalidade', ((col('sum(max(obitos_acumulado))')/col('sum(max(populacaotcu2019))'))) * col('mult'))\n",
    "\n",
    "temp = temp.drop('mult','sum(max(populacaotcu2019))')\n",
    "temp = temp.withColumnRenamed('sum(max(casos_acumulados))', 'Casos').withColumnRenamed('sum(max(obitos_acumulado))', 'Óbitos')\n",
    "view7 = temp\n",
    "\n",
    "view7.printSchema()\n",
    "view7.toPandas()"
   ]
  },
  {
   "cell_type": "code",
   "execution_count": 3,
   "metadata": {},
   "outputs": [
    {
     "name": "stdout",
     "output_type": "stream",
     "text": [
      "root\n",
      " |-- Obitos Acumulados: long (nullable = true)\n",
      " |-- Mortalidade: double (nullable = true)\n",
      " |-- Letalidade: double (nullable = true)\n",
      " |-- Casos Novos: integer (nullable = true)\n",
      "\n"
     ]
    },
    {
     "data": {
      "text/html": [
       "<div>\n",
       "<style scoped>\n",
       "    .dataframe tbody tr th:only-of-type {\n",
       "        vertical-align: middle;\n",
       "    }\n",
       "\n",
       "    .dataframe tbody tr th {\n",
       "        vertical-align: top;\n",
       "    }\n",
       "\n",
       "    .dataframe thead th {\n",
       "        text-align: right;\n",
       "    }\n",
       "</style>\n",
       "<table border=\"1\" class=\"dataframe\">\n",
       "  <thead>\n",
       "    <tr style=\"text-align: right;\">\n",
       "      <th></th>\n",
       "      <th>Obitos Acumulados</th>\n",
       "      <th>Mortalidade</th>\n",
       "      <th>Letalidade</th>\n",
       "      <th>Casos Novos</th>\n",
       "    </tr>\n",
       "  </thead>\n",
       "  <tbody>\n",
       "    <tr>\n",
       "      <th>0</th>\n",
       "      <td>526892</td>\n",
       "      <td>250.725295</td>\n",
       "      <td>2.79444</td>\n",
       "      <td>1780</td>\n",
       "    </tr>\n",
       "  </tbody>\n",
       "</table>\n",
       "</div>"
      ],
      "text/plain": [
       "   Obitos Acumulados  Mortalidade  Letalidade  Casos Novos\n",
       "0             526892   250.725295     2.79444         1780"
      ]
     },
     "execution_count": 3,
     "metadata": {},
     "output_type": "execute_result"
    }
   ],
   "source": [
    "### Criação da view3 com spark Dataframe\n",
    "\n",
    "\n",
    "from pyspark.sql.functions import col\n",
    "from pyspark.sql.functions import lit\n",
    "\n",
    "tabela = spark.read.table(\"dados_covid\")\n",
    "temp = tabela.select('regiao','populacaotcu2019','obitos_acumulado','casos_acumulados','estado').where(tabela.regiao == 'Brasil')\n",
    "\n",
    "\n",
    "temp = temp.groupBy('estado', 'regiao')\n",
    "temp = temp.max('casos_acumulados','obitos_acumulado','populacaotcu2019')\n",
    "\n",
    "\n",
    "temp = temp.groupBy('regiao')\n",
    "temp = temp.sum('max(casos_acumulados)','max(obitos_acumulado)','max(populacaotcu2019)')\n",
    "temp = temp.withColumn('mult', lit(100000))\n",
    "temp = temp.withColumn('mult2', lit(100))\n",
    "\n",
    "\n",
    "temp = temp.withColumn('Mortalidade', ((col('sum(max(obitos_acumulado))')/col('sum(max(populacaotcu2019))'))) * col('mult'))\n",
    "temp = temp.withColumn('Letalidade', ((col('sum(max(obitos_acumulado))')/col('sum(max(casos_acumulados))'))) * col('mult2'))\n",
    "temp1 = tabela.select('obitos_novos','regiao').where(tabela.data == '2021-07-06')\n",
    "temp1 = temp1.where(temp1.regiao == 'Brasil')\n",
    "\n",
    "\n",
    "\n",
    "temp = temp.crossJoin(temp1)\n",
    "temp = temp.drop('mult','sum(max(populacaotcu2019))','mult2','regiao','sum(max(casos_acumulados))')\n",
    "temp = temp.withColumnRenamed('sum(max(obitos_acumulado))', 'Obitos Acumulados').withColumnRenamed('obitos_novos', 'Casos Novos')\n",
    "\n",
    "'sum(max(obitos_acumulado))'\n",
    "\n",
    "view7 = temp\n",
    "\n",
    "\n",
    "\n",
    "view7.printSchema()\n",
    "view7.toPandas()"
   ]
  },
  {
   "cell_type": "code",
   "execution_count": 8,
   "metadata": {},
   "outputs": [],
   "source": [
    "### Conversão da view 3 em CSV para upload no elastic\n",
    "view3_el = view7.write.format('csv').option(\"inferSchema\", \"true\").option(\"header\",\"true\").save(\"/user/hive/warehouse/elastic_search/view3_elastic.csv\")\n"
   ]
  },
  {
   "cell_type": "code",
   "execution_count": 9,
   "metadata": {},
   "outputs": [
    {
     "name": "stdout",
     "output_type": "stream",
     "text": [
      "Found 3 items\r\n",
      "-rw-r--r--   2 root supergroup          0 2021-08-02 00:41 /user/hive/warehouse/elastic_search/view3_elastic.csv/_SUCCESS\r\n",
      "-rw-r--r--   2 root supergroup          0 2021-08-02 00:37 /user/hive/warehouse/elastic_search/view3_elastic.csv/part-00000-7742e91e-c299-48f5-b53f-337206b7347c-c000.csv\r\n",
      "-rw-r--r--   2 root supergroup        102 2021-08-02 00:40 /user/hive/warehouse/elastic_search/view3_elastic.csv/part-00687-7742e91e-c299-48f5-b53f-337206b7347c-c000.csv\r\n"
     ]
    }
   ],
   "source": [
    "###checagem de gravação\n",
    "!hdfs dfs -ls /user/hive/warehouse/elastic_search/view3_elastic.csv"
   ]
  },
  {
   "cell_type": "code",
   "execution_count": 10,
   "metadata": {},
   "outputs": [
    {
     "data": {
      "text/html": [
       "<div>\n",
       "<style scoped>\n",
       "    .dataframe tbody tr th:only-of-type {\n",
       "        vertical-align: middle;\n",
       "    }\n",
       "\n",
       "    .dataframe tbody tr th {\n",
       "        vertical-align: top;\n",
       "    }\n",
       "\n",
       "    .dataframe thead th {\n",
       "        text-align: right;\n",
       "    }\n",
       "</style>\n",
       "<table border=\"1\" class=\"dataframe\">\n",
       "  <thead>\n",
       "    <tr style=\"text-align: right;\">\n",
       "      <th></th>\n",
       "      <th>Obitos Acumulados</th>\n",
       "      <th>Mortalidade</th>\n",
       "      <th>Letalidade</th>\n",
       "      <th>Casos Novos</th>\n",
       "    </tr>\n",
       "  </thead>\n",
       "  <tbody>\n",
       "    <tr>\n",
       "      <th>0</th>\n",
       "      <td>526892</td>\n",
       "      <td>250.725295</td>\n",
       "      <td>2.79444</td>\n",
       "      <td>1780</td>\n",
       "    </tr>\n",
       "  </tbody>\n",
       "</table>\n",
       "</div>"
      ],
      "text/plain": [
       "   Obitos Acumulados  Mortalidade  Letalidade  Casos Novos\n",
       "0             526892   250.725295     2.79444         1780"
      ]
     },
     "execution_count": 10,
     "metadata": {},
     "output_type": "execute_result"
    }
   ],
   "source": [
    "### checagem de gravação\n",
    "spark.read.csv('/user/hive/warehouse/elastic_search/view3_elastic.csv', inferSchema = True, header = True).toPandas()"
   ]
  },
  {
   "cell_type": "code",
   "execution_count": null,
   "metadata": {
    "scrolled": true
   },
   "outputs": [],
   "source": [
    "### Comandos Scala no terminal \n",
    "\n",
    "## Iniciar sessão com atributos abaixo\n",
    "\n",
    "spark-shell --jars /opt/spark/jars/elasticsearch-spark_2.10-2.4.1.jar \\\n",
    "        --conf spark.es.nodes=\"YOUR-IP-ELASTICSEARCH\" \\\n",
    "        --conf spark.es.port=\"9200\" \\\n",
    "        --conf spark.es.index.auto.create=true \\\n",
    "        --conf spark.es.nodes.discovery=false\n",
    "\n",
    "##Salvar view no Elastic\n",
    "\n",
    "import org.elasticsearch.spark.sql._\n",
    "val view3 = spark.read.option(\"inferSchema\",true).option(\"header\",true).csv(\"/user/hive/warehouse/elastic_search/view3_elastic.csv\")\n",
    "view3.show()\n",
    "view3.saveToEs(\"view3_elastic\")"
   ]
  }
 ],
 "metadata": {
  "kernelspec": {
   "display_name": "PySpark",
   "language": "python",
   "name": "pyspark"
  },
  "language_info": {
   "codemirror_mode": {
    "name": "ipython",
    "version": 3
   },
   "file_extension": ".py",
   "mimetype": "text/x-python",
   "name": "python",
   "nbconvert_exporter": "python",
   "pygments_lexer": "ipython3",
   "version": "3.6.10"
  }
 },
 "nbformat": 4,
 "nbformat_minor": 2
}
